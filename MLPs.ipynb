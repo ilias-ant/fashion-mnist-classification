{
 "cells": [
  {
   "cell_type": "markdown",
   "id": "b4cee3ee",
   "metadata": {},
   "source": [
    "<a href=\"https://colab.research.google.com/github/fashion-mnist-classification/code.ipynb\" target=\"_parent\"><img src=\"https://colab.research.google.com/assets/colab-badge.svg\" alt=\"Open In Colab\"/>"
   ]
  },
  {
   "cell_type": "markdown",
   "id": "7aaa9d4b",
   "metadata": {},
   "source": [
    "## Deep Learning\n",
    "\n",
    "\n",
    "> Antonopoulos Ilias p3352004 </br>\n",
    "> Ndoja Silva p3352017 </br>\n",
    "> Postgraduate Students, MSc Data Science AUEB </br>"
   ]
  },
  {
   "cell_type": "markdown",
   "id": "d3e6b51d",
   "metadata": {},
   "source": [
    "## Table of Contents\n",
    "\n",
    "- [Data Loading](#Data-Loading)\n",
    "- [Exploratory Data Analysis](#Exploratory-Data-Analysis)\n",
    "- [Hyperparameter Tuning](#Hyperparameter-Tuning)\n",
    "- [Model Selection](#Model-Selection)\n",
    "- [Evaluation](#Evaluation)"
   ]
  },
  {
   "cell_type": "code",
   "execution_count": 1,
   "id": "e88eb046",
   "metadata": {
    "scrolled": true
   },
   "outputs": [
    {
     "name": "stderr",
     "output_type": "stream",
     "text": [
      "2022-02-26 14:56:50.691213: W tensorflow/stream_executor/platform/default/dso_loader.cc:64] Could not load dynamic library 'libcudart.so.11.0'; dlerror: libcudart.so.11.0: cannot open shared object file: No such file or directory\n",
      "2022-02-26 14:56:50.691231: I tensorflow/stream_executor/cuda/cudart_stub.cc:29] Ignore above cudart dlerror if you do not have a GPU set up on your machine.\n"
     ]
    }
   ],
   "source": [
    "import keras_tuner as kt\n",
    "import matplotlib.pyplot as plt\n",
    "import tensorflow as tf"
   ]
  },
  {
   "cell_type": "code",
   "execution_count": 2,
   "id": "140836a9",
   "metadata": {
    "scrolled": false
   },
   "outputs": [
    {
     "name": "stdout",
     "output_type": "stream",
     "text": [
      "2.8.0\n"
     ]
    }
   ],
   "source": [
    "print(tf.__version__)"
   ]
  },
  {
   "cell_type": "code",
   "execution_count": 3,
   "id": "96edda17",
   "metadata": {
    "scrolled": true
   },
   "outputs": [
    {
     "name": "stdout",
     "output_type": "stream",
     "text": [
      "Num GPUs Available:  0\n"
     ]
    },
    {
     "name": "stderr",
     "output_type": "stream",
     "text": [
      "2022-02-26 14:56:52.329968: I tensorflow/stream_executor/cuda/cuda_gpu_executor.cc:936] successful NUMA node read from SysFS had negative value (-1), but there must be at least one NUMA node, so returning NUMA node zero\n",
      "2022-02-26 14:56:52.330425: W tensorflow/stream_executor/platform/default/dso_loader.cc:64] Could not load dynamic library 'libcudart.so.11.0'; dlerror: libcudart.so.11.0: cannot open shared object file: No such file or directory\n",
      "2022-02-26 14:56:52.333816: W tensorflow/stream_executor/platform/default/dso_loader.cc:64] Could not load dynamic library 'libcusolver.so.11'; dlerror: libcusolver.so.11: cannot open shared object file: No such file or directory\n",
      "2022-02-26 14:56:52.333859: W tensorflow/stream_executor/platform/default/dso_loader.cc:64] Could not load dynamic library 'libcusparse.so.11'; dlerror: libcusparse.so.11: cannot open shared object file: No such file or directory\n",
      "2022-02-26 14:56:52.333950: W tensorflow/core/common_runtime/gpu/gpu_device.cc:1850] Cannot dlopen some GPU libraries. Please make sure the missing libraries mentioned above are installed properly if you would like to use GPU. Follow the guide at https://www.tensorflow.org/install/gpu for how to download and setup the required libraries for your platform.\n",
      "Skipping registering GPU devices...\n"
     ]
    }
   ],
   "source": [
    "print(\"Num GPUs Available: \", len(tf.config.list_physical_devices(\"GPU\")))"
   ]
  },
  {
   "cell_type": "markdown",
   "id": "85ba94c6",
   "metadata": {},
   "source": [
    "**tip**: Open the Google Colab link at the top for a GPU runtime. "
   ]
  },
  {
   "cell_type": "markdown",
   "id": "38c99bb4",
   "metadata": {},
   "source": [
    "### Data Loading"
   ]
  },
  {
   "cell_type": "code",
   "execution_count": 4,
   "id": "f57d2b13",
   "metadata": {},
   "outputs": [],
   "source": [
    "fashion_mnist = tf.keras.datasets.fashion_mnist\n",
    "\n",
    "(train_images, train_labels), (test_images, test_labels) = fashion_mnist.load_data()"
   ]
  },
  {
   "cell_type": "code",
   "execution_count": 5,
   "id": "d12d3533",
   "metadata": {},
   "outputs": [
    {
     "data": {
      "text/plain": [
       "(60000, 28, 28)"
      ]
     },
     "execution_count": 5,
     "metadata": {},
     "output_type": "execute_result"
    }
   ],
   "source": [
    "train_images.shape"
   ]
  },
  {
   "cell_type": "code",
   "execution_count": 6,
   "id": "3392e806",
   "metadata": {},
   "outputs": [
    {
     "data": {
      "text/plain": [
       "array([9, 0, 0, ..., 3, 0, 5], dtype=uint8)"
      ]
     },
     "execution_count": 6,
     "metadata": {},
     "output_type": "execute_result"
    }
   ],
   "source": [
    "train_labels"
   ]
  },
  {
   "cell_type": "code",
   "execution_count": 7,
   "id": "b594e776",
   "metadata": {},
   "outputs": [
    {
     "data": {
      "text/plain": [
       "{0, 1, 2, 3, 4, 5, 6, 7, 8, 9}"
      ]
     },
     "execution_count": 7,
     "metadata": {},
     "output_type": "execute_result"
    }
   ],
   "source": [
    "set(train_labels)"
   ]
  },
  {
   "cell_type": "code",
   "execution_count": 8,
   "id": "d990e8e8",
   "metadata": {},
   "outputs": [
    {
     "data": {
      "text/plain": [
       "(10000, 28, 28)"
      ]
     },
     "execution_count": 8,
     "metadata": {},
     "output_type": "execute_result"
    }
   ],
   "source": [
    "test_images.shape"
   ]
  },
  {
   "cell_type": "markdown",
   "id": "0c74d426",
   "metadata": {},
   "source": [
    "This is a dataset of 60,000 28x28 grayscale images of 10 fashion categories,\n",
    "  along with a test set of 10,000 images.\n",
    "  \n",
    "The classes are:\n",
    "  \n",
    "| Label | Description |\n",
    "|:-----:|-------------|\n",
    "|   0   | T-shirt/top |\n",
    "|   1   | Trouser     |\n",
    "|   2   | Pullover    |\n",
    "|   3   | Dress       |\n",
    "|   4   | Coat        |\n",
    "|   5   | Sandal      |\n",
    "|   6   | Shirt       |\n",
    "|   7   | Sneaker     |\n",
    "|   8   | Bag         |\n",
    "|   9   | Ankle boot  |"
   ]
  },
  {
   "cell_type": "code",
   "execution_count": 9,
   "id": "c6b81307",
   "metadata": {},
   "outputs": [],
   "source": [
    "class_names = [\n",
    "    \"T-shirt/top\",\n",
    "    \"Trouser\",\n",
    "    \"Pullover\",\n",
    "    \"Dress\",\n",
    "    \"Coat\",\n",
    "    \"Sandal\",\n",
    "    \"Shirt\",\n",
    "    \"Sneaker\",\n",
    "    \"Bag\",\n",
    "    \"Ankle boot\",\n",
    "]"
   ]
  },
  {
   "cell_type": "markdown",
   "id": "ec8c1483",
   "metadata": {},
   "source": [
    "### Exploratory Data Analysis"
   ]
  },
  {
   "cell_type": "code",
   "execution_count": 10,
   "id": "73982fc7",
   "metadata": {},
   "outputs": [
    {
     "data": {
      "image/png": "[encoded data removed]",
      "text/plain": [
       "<Figure size 432x288 with 2 Axes>"
      ]
     },
     "metadata": {
      "needs_background": "light"
     },
     "output_type": "display_data"
    }
   ],
   "source": [
    "plt.figure()\n",
    "plt.imshow(train_images[5])\n",
    "plt.colorbar()\n",
    "plt.grid(False)\n",
    "plt.show()"
   ]
  },
  {
   "cell_type": "code",
   "execution_count": 11,
   "id": "0e3c7c53",
   "metadata": {
    "scrolled": false
   },
   "outputs": [
    {
     "data": {
      "image/png": "[encoded data removed]",
      "text/plain": [
       "<Figure size 720x720 with 25 Axes>"
      ]
     },
     "metadata": {},
     "output_type": "display_data"
    }
   ],
   "source": [
    "plt.figure(figsize=(10, 10))\n",
    "for i in range(25):\n",
    "    plt.subplot(5, 5, i + 1)\n",
    "    plt.xticks([])\n",
    "    plt.yticks([])\n",
    "    plt.grid(False)\n",
    "    plt.imshow(train_images[i], cmap=plt.cm.binary)\n",
    "    plt.xlabel(class_names[train_labels[i]])\n",
    "plt.show()"
   ]
  },
  {
   "cell_type": "markdown",
   "id": "bba34f7a",
   "metadata": {},
   "source": [
    "### Hyperparameter Tuning"
   ]
  },
  {
   "cell_type": "code",
   "execution_count": 12,
   "id": "8dcf5c54",
   "metadata": {},
   "outputs": [],
   "source": [
    "def model_builder(hp):\n",
    "\n",
    "    model = tf.keras.Sequential()\n",
    "\n",
    "    model.add(tf.keras.layers.Flatten(input_shape=(28, 28)))\n",
    "    model.add(tf.keras.layers.Rescaling(scale=1.0 / 255))\n",
    "\n",
    "    hp_units = hp.Int(\"units\", min_value=32, max_value=512, step=32)\n",
    "    model.add(tf.keras.layers.Dense(units=hp_units, activation=\"relu\"))\n",
    "    model.add(tf.keras.layers.Dense(10))\n",
    "\n",
    "    hp_learning_rate = hp.Choice(\"learning_rate\", values=[1e-2, 1e-3, 1e-4])\n",
    "\n",
    "    model.compile(\n",
    "        optimizer=tf.keras.optimizers.Adam(learning_rate=hp_learning_rate),\n",
    "        loss=tf.keras.losses.SparseCategoricalCrossentropy(from_logits=True),\n",
    "        metrics=[\"accuracy\"],\n",
    "    )\n",
    "\n",
    "    return model"
   ]
  },
  {
   "cell_type": "code",
   "execution_count": 13,
   "id": "7985d756",
   "metadata": {},
   "outputs": [
    {
     "name": "stderr",
     "output_type": "stream",
     "text": [
      "2022-02-26 14:56:53.415520: I tensorflow/core/platform/cpu_feature_guard.cc:151] This TensorFlow binary is optimized with oneAPI Deep Neural Network Library (oneDNN) to use the following CPU instructions in performance-critical operations:  AVX2 FMA\n",
      "To enable them in other operations, rebuild TensorFlow with the appropriate compiler flags.\n"
     ]
    }
   ],
   "source": [
    "tuner = kt.Hyperband(\n",
    "    model_builder,\n",
    "    objective=\"val_accuracy\",\n",
    "    max_epochs=5,\n",
    "    factor=3,\n",
    "    directory=\"hparam-tuning\",\n",
    "    project_name=\"mlp\",\n",
    ")"
   ]
  },
  {
   "cell_type": "code",
   "execution_count": 14,
   "id": "d0911445",
   "metadata": {},
   "outputs": [],
   "source": [
    "stop_early = tf.keras.callbacks.EarlyStopping(monitor=\"val_loss\", patience=5)"
   ]
  },
  {
   "cell_type": "code",
   "execution_count": 19,
   "id": "65c5cde1",
   "metadata": {},
   "outputs": [
    {
     "name": "stdout",
     "output_type": "stream",
     "text": [
      "Trial 13 Complete [00h 00m 14s]\n",
      "val_accuracy: 0.8798333406448364\n",
      "\n",
      "Best val_accuracy So Far: 0.8798333406448364\n",
      "Total elapsed time: 00h 02m 51s\n",
      "INFO:tensorflow:Oracle triggered exit\n",
      "\n",
      "The hyperparameter search is complete. The optimal number of units in the first densely-connected\n",
      "layer is 352 and the optimal learning rate for the optimizer\n",
      "is 0.001.\n",
      "\n"
     ]
    }
   ],
   "source": [
    "tuner.search(\n",
    "    train_images, train_labels, epochs=5, validation_split=0.2, callbacks=[stop_early]\n",
    ")\n",
    "\n",
    "# Get the optimal hyperparameters\n",
    "best_hps = tuner.get_best_hyperparameters(num_trials=1)[0]\n",
    "\n",
    "print(\n",
    "    f\"\"\"\n",
    "The hyperparameter search is complete. The optimal number of units in the first densely-connected\n",
    "layer is {best_hps.get('units')} and the optimal learning rate for the optimizer\n",
    "is {best_hps.get('learning_rate')}.\n",
    "\"\"\"\n",
    ")"
   ]
  },
  {
   "cell_type": "markdown",
   "id": "da2ebff0",
   "metadata": {},
   "source": [
    "#### Model Selection"
   ]
  },
  {
   "cell_type": "code",
   "execution_count": 20,
   "id": "fc1502e3",
   "metadata": {},
   "outputs": [
    {
     "name": "stdout",
     "output_type": "stream",
     "text": [
      "Epoch 1/10\n",
      "1500/1500 [==============================] - 3s 2ms/step - loss: 0.4960 - accuracy: 0.8230 - val_loss: 0.3979 - val_accuracy: 0.8609\n",
      "Epoch 2/10\n",
      "1500/1500 [==============================] - 3s 2ms/step - loss: 0.3694 - accuracy: 0.8651 - val_loss: 0.3531 - val_accuracy: 0.8751\n",
      "Epoch 3/10\n",
      "1500/1500 [==============================] - 3s 2ms/step - loss: 0.3334 - accuracy: 0.8770 - val_loss: 0.3462 - val_accuracy: 0.8749\n",
      "Epoch 4/10\n",
      "1500/1500 [==============================] - 3s 2ms/step - loss: 0.3063 - accuracy: 0.8862 - val_loss: 0.3408 - val_accuracy: 0.8773\n",
      "Epoch 5/10\n",
      "1500/1500 [==============================] - 3s 2ms/step - loss: 0.2879 - accuracy: 0.8933 - val_loss: 0.3325 - val_accuracy: 0.8809\n",
      "Epoch 6/10\n",
      "1500/1500 [==============================] - 3s 2ms/step - loss: 0.2701 - accuracy: 0.8989 - val_loss: 0.3244 - val_accuracy: 0.8842\n",
      "Epoch 7/10\n",
      "1500/1500 [==============================] - 3s 2ms/step - loss: 0.2612 - accuracy: 0.9024 - val_loss: 0.3305 - val_accuracy: 0.8808\n",
      "Epoch 8/10\n",
      "1500/1500 [==============================] - 3s 2ms/step - loss: 0.2466 - accuracy: 0.9066 - val_loss: 0.3428 - val_accuracy: 0.8800\n",
      "Epoch 9/10\n",
      "1500/1500 [==============================] - 3s 2ms/step - loss: 0.2364 - accuracy: 0.9119 - val_loss: 0.3153 - val_accuracy: 0.8899\n",
      "Epoch 10/10\n",
      "1500/1500 [==============================] - 3s 2ms/step - loss: 0.2263 - accuracy: 0.9147 - val_loss: 0.3411 - val_accuracy: 0.8808\n",
      "Best epoch: 9\n"
     ]
    }
   ],
   "source": [
    "# Build the model with the optimal hyperparameters and train it on the data for 50 epochs\n",
    "model = tuner.hypermodel.build(best_hps)\n",
    "history = model.fit(train_images, train_labels, epochs=10, validation_split=0.2)\n",
    "\n",
    "val_acc_per_epoch = history.history[\"val_accuracy\"]\n",
    "best_epoch = val_acc_per_epoch.index(max(val_acc_per_epoch)) + 1\n",
    "print(\"Best epoch: %d\" % (best_epoch,))"
   ]
  },
  {
   "cell_type": "code",
   "execution_count": 21,
   "id": "a920e338",
   "metadata": {
    "scrolled": false
   },
   "outputs": [
    {
     "name": "stdout",
     "output_type": "stream",
     "text": [
      "Epoch 1/9\n",
      "1500/1500 [==============================] - 3s 2ms/step - loss: 0.4977 - accuracy: 0.8239 - val_loss: 0.4019 - val_accuracy: 0.8529\n",
      "Epoch 2/9\n",
      "1500/1500 [==============================] - 3s 2ms/step - loss: 0.3716 - accuracy: 0.8637 - val_loss: 0.4049 - val_accuracy: 0.8542\n",
      "Epoch 3/9\n",
      "1500/1500 [==============================] - 3s 2ms/step - loss: 0.3315 - accuracy: 0.8779 - val_loss: 0.3461 - val_accuracy: 0.8747\n",
      "Epoch 4/9\n",
      "1500/1500 [==============================] - 3s 2ms/step - loss: 0.3054 - accuracy: 0.8871 - val_loss: 0.3287 - val_accuracy: 0.8809\n",
      "Epoch 5/9\n",
      "1500/1500 [==============================] - 3s 2ms/step - loss: 0.2858 - accuracy: 0.8934 - val_loss: 0.3144 - val_accuracy: 0.8889\n",
      "Epoch 6/9\n",
      "1500/1500 [==============================] - 3s 2ms/step - loss: 0.2705 - accuracy: 0.8996 - val_loss: 0.3213 - val_accuracy: 0.8854\n",
      "Epoch 7/9\n",
      "1500/1500 [==============================] - 3s 2ms/step - loss: 0.2564 - accuracy: 0.9048 - val_loss: 0.3148 - val_accuracy: 0.8893\n",
      "Epoch 8/9\n",
      "1500/1500 [==============================] - 3s 2ms/step - loss: 0.2461 - accuracy: 0.9085 - val_loss: 0.3350 - val_accuracy: 0.8815\n",
      "Epoch 9/9\n",
      "1500/1500 [==============================] - 3s 2ms/step - loss: 0.2364 - accuracy: 0.9120 - val_loss: 0.3125 - val_accuracy: 0.8878\n"
     ]
    },
    {
     "data": {
      "text/plain": [
       "<keras.callbacks.History at 0x7f9600287c70>"
      ]
     },
     "execution_count": 21,
     "metadata": {},
     "output_type": "execute_result"
    }
   ],
   "source": [
    "hypermodel = tuner.hypermodel.build(best_hps)\n",
    "\n",
    "# Retrain the model\n",
    "hypermodel.fit(train_images, train_labels, epochs=best_epoch, validation_split=0.2)"
   ]
  },
  {
   "cell_type": "markdown",
   "id": "35c3b03f",
   "metadata": {},
   "source": [
    "### Evaluation"
   ]
  },
  {
   "cell_type": "code",
   "execution_count": 22,
   "id": "ba25caf4",
   "metadata": {},
   "outputs": [
    {
     "name": "stdout",
     "output_type": "stream",
     "text": [
      "313/313 [==============================] - 1s 2ms/step - loss: 0.3343 - accuracy: 0.8779\n",
      "[test loss, test accuracy]: [0.33431878685951233, 0.8779000043869019]\n"
     ]
    }
   ],
   "source": [
    "eval_result = hypermodel.evaluate(test_images, test_labels)\n",
    "print(\"[test loss, test accuracy]:\", eval_result)"
   ]
  }
 ],
 "metadata": {
  "kernelspec": {
   "display_name": "Python 3 (ipykernel)",
   "language": "python",
   "name": "python3"
  },
  "language_info": {
   "codemirror_mode": {
    "name": "ipython",
    "version": 3
   },
   "file_extension": ".py",
   "mimetype": "text/x-python",
   "name": "python",
   "nbconvert_exporter": "python",
   "pygments_lexer": "ipython3",
   "version": "3.8.10"
  }
 },
 "nbformat": 4,
 "nbformat_minor": 5
}
